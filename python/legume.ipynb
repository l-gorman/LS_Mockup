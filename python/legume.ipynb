{
 "cells": [
  {
   "cell_type": "code",
   "execution_count": 1,
   "metadata": {},
   "outputs": [],
   "source": [
    "from dataclasses import dataclass as _dataclass\n",
    "from typing import List as _List\n",
    "from typing import Dict as _Dict\n",
    "\n",
    "from legumes import LegumeType\n",
    "from legumes import Legume\n",
    "\n",
    "\n",
    "__all__ = [\"Legumes\"]\n",
    "\n",
    "class Legumes:\n",
    "    \n",
    "    legume_types: _List[LegumeType] = None\n",
    "\n",
    "    legume: _List[Legume] = None\n",
    "    \n",
    "    \n",
    "    def add_legume_type(self, legume_type: LegumeType):\n",
    "        ''' Function for adding legume types to the legume class'''\n",
    "        if not isinstance(legume_type, LegumeType): # Checking whether the argument passed is of class \"LegumeType\"\n",
    "            raise TypeError(\"Can only add object of class 'LegumeType'\")\n",
    "        \n",
    "        legume_type.assert_sane()\n",
    "        \n",
    "        if legume_type.is_null():\n",
    "            return\n",
    "        \n",
    "        if self.legume_types is None:\n",
    "            self.legume_types=[]\n",
    "            #self._code_to_legume_type={}\n",
    "        \n",
    "        \n",
    "        # Ensuring that we have not duplicated legume types\n",
    "        for one_of_legume_types in self.legume_types:\n",
    "            assert legume_type.legume_type != one_of_legume_types[\"legume_type\"], \"legume type already exists\"\n",
    "          \n",
    "        # Ensuring that we have not duplicated legume type codes, meaning that it can be a key\n",
    "        for one_of_legume_type_codes in self.legume_types:\n",
    "            assert legume_type.legume_type_code != one_of_legume_types[\"legume_type_code\"], \"legume type code already exists\"\n",
    "       \n",
    "\n",
    "\n",
    "        self.legume_types.append(legume_type.toDry())\n",
    "            \n",
    "        \n",
    "    def append(self, legume: Legume):\n",
    "        if not isinstance(legume, Legume):\n",
    "            raise TypeError(\"Can only append legumes\")\n",
    "            \n",
    "            legume.assert_sane()\n",
    "            \n",
    "            if legume.is_null:\n",
    "                return\n",
    "            \n",
    "            assert legume.legume_type in self.legume_types\n",
    "            \n",
    "            self.legumes.append(legume)\n",
    "            \n",
    "            def toDry(self):\n",
    "                if len(self.legumes) == 0:\n",
    "                    return {\"types\": self.legume_types,\n",
    "                           \"legumes\": self.legumes}\n",
    "                \n",
    "                \n",
    "    def to_json(self, indent=None):\n",
    "        json.dumps(self)\n",
    "\n",
    "            \n",
    "        \n",
    "            \n",
    "    \n",
    "    \n",
    "    \n",
    "    \n",
    "    \n",
    "        \n",
    "    "
   ]
  },
  {
   "cell_type": "code",
   "execution_count": 2,
   "metadata": {},
   "outputs": [],
   "source": [
    "legumes=Legumes()"
   ]
  },
  {
   "cell_type": "code",
   "execution_count": 3,
   "metadata": {},
   "outputs": [],
   "source": [
    "legumes.add_legume_type(LegumeType(legume_type_code=\"GP\",legume_type=\"Grain legume perennial\"))"
   ]
  },
  {
   "cell_type": "code",
   "execution_count": 4,
   "metadata": {},
   "outputs": [],
   "source": [
    "legumes.add_legume_type(LegumeType(legume_type_code=\"HP\",legume_type=\"Herbaceous legumes - Perennial/regrowth (ability regrowth after seasonal harvesting)\"))"
   ]
  },
  {
   "cell_type": "code",
   "execution_count": 5,
   "metadata": {},
   "outputs": [],
   "source": [
    "legumes.add_legume_type(LegumeType(legume_type_code=\"HS\",legume_type=\"Herbaceous legumes - Seasonal/no-regrowth (harvest after one season, then need reseeding)\"))"
   ]
  },
  {
   "cell_type": "code",
   "execution_count": 6,
   "metadata": {},
   "outputs": [],
   "source": [
    "legumes.add_legume_type(LegumeType(legume_type_code=\"TC\",legume_type=\"Tree legumes - coppicing\"))"
   ]
  },
  {
   "cell_type": "code",
   "execution_count": 7,
   "metadata": {},
   "outputs": [],
   "source": [
    "legumes.add_legume_type(LegumeType(legume_type_code=\"TN\",legume_type=\"Tree legumes – non coppicing\"))"
   ]
  },
  {
   "cell_type": "code",
   "execution_count": 8,
   "metadata": {},
   "outputs": [
    {
     "ename": "AssertionError",
     "evalue": "legume type code already exists",
     "output_type": "error",
     "traceback": [
      "\u001b[1;31m---------------------------------------------------------------------------\u001b[0m",
      "\u001b[1;31mAssertionError\u001b[0m                            Traceback (most recent call last)",
      "\u001b[1;32m<ipython-input-8-0a06c06f9359>\u001b[0m in \u001b[0;36m<module>\u001b[1;34m\u001b[0m\n\u001b[1;32m----> 1\u001b[1;33m \u001b[0mlegumes\u001b[0m\u001b[1;33m.\u001b[0m\u001b[0madd_legume_type\u001b[0m\u001b[1;33m(\u001b[0m\u001b[0mLegumeType\u001b[0m\u001b[1;33m(\u001b[0m\u001b[0mlegume_type_code\u001b[0m\u001b[1;33m=\u001b[0m\u001b[1;34m\"TN\"\u001b[0m\u001b[1;33m,\u001b[0m\u001b[0mlegume_type\u001b[0m\u001b[1;33m=\u001b[0m\u001b[1;34m\"bhjbknl\"\u001b[0m\u001b[1;33m)\u001b[0m\u001b[1;33m)\u001b[0m\u001b[1;33m\u001b[0m\u001b[1;33m\u001b[0m\u001b[0m\n\u001b[0m",
      "\u001b[1;32m<ipython-input-1-e49f668278ef>\u001b[0m in \u001b[0;36madd_legume_type\u001b[1;34m(self, legume_type)\u001b[0m\n\u001b[0;32m     37\u001b[0m         \u001b[1;31m# Ensuring that we have not duplicated legume type codes, meaning that it can be a key\u001b[0m\u001b[1;33m\u001b[0m\u001b[1;33m\u001b[0m\u001b[1;33m\u001b[0m\u001b[0m\n\u001b[0;32m     38\u001b[0m         \u001b[1;32mfor\u001b[0m \u001b[0mone_of_legume_type_codes\u001b[0m \u001b[1;32min\u001b[0m \u001b[0mself\u001b[0m\u001b[1;33m.\u001b[0m\u001b[0mlegume_types\u001b[0m\u001b[1;33m:\u001b[0m\u001b[1;33m\u001b[0m\u001b[1;33m\u001b[0m\u001b[0m\n\u001b[1;32m---> 39\u001b[1;33m             \u001b[1;32massert\u001b[0m \u001b[0mlegume_type\u001b[0m\u001b[1;33m.\u001b[0m\u001b[0mlegume_type_code\u001b[0m \u001b[1;33m!=\u001b[0m \u001b[0mone_of_legume_types\u001b[0m\u001b[1;33m[\u001b[0m\u001b[1;34m\"legume_type_code\"\u001b[0m\u001b[1;33m]\u001b[0m\u001b[1;33m,\u001b[0m \u001b[1;34m\"legume type code already exists\"\u001b[0m\u001b[1;33m\u001b[0m\u001b[1;33m\u001b[0m\u001b[0m\n\u001b[0m\u001b[0;32m     40\u001b[0m \u001b[1;33m\u001b[0m\u001b[0m\n\u001b[0;32m     41\u001b[0m \u001b[1;33m\u001b[0m\u001b[0m\n",
      "\u001b[1;31mAssertionError\u001b[0m: legume type code already exists"
     ]
    }
   ],
   "source": [
    "legumes.add_legume_type(LegumeType(legume_type_code=\"TN\",legume_type=\"bhjbknl\"))"
   ]
  },
  {
   "cell_type": "code",
   "execution_count": 65,
   "metadata": {},
   "outputs": [
    {
     "ename": "AssertionError",
     "evalue": "legume type already exists",
     "output_type": "error",
     "traceback": [
      "\u001b[1;31m---------------------------------------------------------------------------\u001b[0m",
      "\u001b[1;31mAssertionError\u001b[0m                            Traceback (most recent call last)",
      "\u001b[1;32m<ipython-input-65-b0c1a625cfcb>\u001b[0m in \u001b[0;36m<module>\u001b[1;34m\u001b[0m\n\u001b[1;32m----> 1\u001b[1;33m \u001b[0mlegumes\u001b[0m\u001b[1;33m.\u001b[0m\u001b[0madd_legume_type\u001b[0m\u001b[1;33m(\u001b[0m\u001b[0mLegumeType\u001b[0m\u001b[1;33m(\u001b[0m\u001b[0mlegume_type_code\u001b[0m\u001b[1;33m=\u001b[0m\u001b[1;34m\"TN\"\u001b[0m\u001b[1;33m,\u001b[0m\u001b[0mlegume_type\u001b[0m\u001b[1;33m=\u001b[0m\u001b[1;34m\"Tree legumes - coppicing\"\u001b[0m\u001b[1;33m)\u001b[0m\u001b[1;33m)\u001b[0m\u001b[1;33m\u001b[0m\u001b[1;33m\u001b[0m\u001b[0m\n\u001b[0m",
      "\u001b[1;32m<ipython-input-57-f372c32bd8d8>\u001b[0m in \u001b[0;36madd_legume_type\u001b[1;34m(self, legume_type)\u001b[0m\n\u001b[0;32m     31\u001b[0m \u001b[1;33m\u001b[0m\u001b[0m\n\u001b[0;32m     32\u001b[0m         \u001b[1;32mfor\u001b[0m \u001b[0mone_of_legume_types\u001b[0m \u001b[1;32min\u001b[0m \u001b[0mself\u001b[0m\u001b[1;33m.\u001b[0m\u001b[0mlegume_types\u001b[0m\u001b[1;33m:\u001b[0m\u001b[1;33m\u001b[0m\u001b[1;33m\u001b[0m\u001b[0m\n\u001b[1;32m---> 33\u001b[1;33m             \u001b[1;32massert\u001b[0m \u001b[0mlegume_type\u001b[0m\u001b[1;33m.\u001b[0m\u001b[0mlegume_type\u001b[0m \u001b[1;33m!=\u001b[0m \u001b[0mone_of_legume_types\u001b[0m\u001b[1;33m[\u001b[0m\u001b[1;34m\"legume_type\"\u001b[0m\u001b[1;33m]\u001b[0m\u001b[1;33m,\u001b[0m \u001b[1;34m\"legume type already exists\"\u001b[0m\u001b[1;33m\u001b[0m\u001b[1;33m\u001b[0m\u001b[0m\n\u001b[0m\u001b[0;32m     34\u001b[0m \u001b[1;33m\u001b[0m\u001b[0m\n\u001b[0;32m     35\u001b[0m         \u001b[1;32mfor\u001b[0m \u001b[0mone_of_legume_type_codes\u001b[0m \u001b[1;32min\u001b[0m \u001b[0mself\u001b[0m\u001b[1;33m.\u001b[0m\u001b[0mlegume_types\u001b[0m\u001b[1;33m:\u001b[0m\u001b[1;33m\u001b[0m\u001b[1;33m\u001b[0m\u001b[0m\n",
      "\u001b[1;31mAssertionError\u001b[0m: legume type already exists"
     ]
    }
   ],
   "source": [
    "legumes.add_legume_type(LegumeType(legume_type_code=\"TN\",legume_type=\"Tree legumes - coppicing\"))"
   ]
  },
  {
   "cell_type": "code",
   "execution_count": 44,
   "metadata": {},
   "outputs": [
    {
     "data": {
      "text/plain": [
       "'[{\"legume_type_code\": \"GP\", \"legume_type\": \"Grain legume perennial\"}, {\"legume_type_code\": \"HP\", \"legume_type\": \"Herbaceous legumes - Perennial/regrowth (ability regrowth after seasonal harvesting)\"}, {\"legume_type_code\": \"HS\", \"legume_type\": \"Herbaceous legumes - Seasonal/no-regrowth (harvest after one season, then need reseeding)\"}, {\"legume_type_code\": \"TC\", \"legume_type\": \"Tree legumes - coppicing\"}, {\"legume_type_code\": \"TN\", \"legume_type\": \"Tree legumes \\\\u2013 non coppicing\"}, {\"legume_type_code\": \"TN\", \"legume_type\": \"bhjbknl\"}]'"
      ]
     },
     "execution_count": 44,
     "metadata": {},
     "output_type": "execute_result"
    }
   ],
   "source": [
    "import json\n",
    "json.dumps(legumes.legume_types)\n"
   ]
  },
  {
   "cell_type": "code",
   "execution_count": 33,
   "metadata": {},
   "outputs": [],
   "source": [
    "import pandas as pd\n",
    "legume_type_df = pd.read_csv('./data/legume_type.csv', encoding=\"latin1\")"
   ]
  }
 ],
 "metadata": {
  "kernelspec": {
   "display_name": "Python 3",
   "language": "python",
   "name": "python3"
  },
  "language_info": {
   "codemirror_mode": {
    "name": "ipython",
    "version": 3
   },
   "file_extension": ".py",
   "mimetype": "text/x-python",
   "name": "python",
   "nbconvert_exporter": "python",
   "pygments_lexer": "ipython3",
   "version": "3.7.4"
  }
 },
 "nbformat": 4,
 "nbformat_minor": 4
}
